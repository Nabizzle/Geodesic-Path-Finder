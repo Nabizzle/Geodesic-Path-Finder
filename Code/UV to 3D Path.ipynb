{
 "cells": [
  {
   "attachments": {},
   "cell_type": "markdown",
   "metadata": {},
   "source": [
    "# Test of mapping 2D points to the 3D model\n",
    "- Uses the UV mapping of the right arm to select the 3D point\n",
    "- For this test, I select locations on the 2D image using openCV to click on points"
   ]
  },
  {
   "attachments": {},
   "cell_type": "markdown",
   "metadata": {},
   "source": [
    "## Import libraries"
   ]
  },
  {
   "cell_type": "markdown",
   "metadata": {},
   "source": []
  }
 ],
 "metadata": {
  "language_info": {
   "name": "python"
  },
  "orig_nbformat": 4
 },
 "nbformat": 4,
 "nbformat_minor": 2
}
