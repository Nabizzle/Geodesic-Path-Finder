{
 "cells": [
  {
   "attachments": {},
   "cell_type": "markdown",
   "metadata": {},
   "source": [
    "# Code to Save Mesh Data and Geodesic Solver\n",
    "Saves out the data for the female and male meshes and the solvers for preloading of the data. This will greatly speed up calculations"
   ]
  },
  {
   "cell_type": "code",
   "execution_count": 1,
   "metadata": {},
   "outputs": [],
   "source": [
    "import numpy as np\n",
    "import pandas as pd\n",
    "import potpourri3d as pp3d"
   ]
  },
  {
   "attachments": {},
   "cell_type": "markdown",
   "metadata": {},
   "source": [
    "## Function to save out data from mesh obj file"
   ]
  },
  {
   "cell_type": "code",
   "execution_count": 2,
   "metadata": {},
   "outputs": [],
   "source": [
    "def get_mesh_data(mesh_name: str) -> None:\n",
    "    '''\n",
    "    Saves out the mesh data from an obj file\n",
    "\n",
    "    Parameters\n",
    "    ----------\n",
    "    mesh_name: str\n",
    "        The name of the mesh in the Model's folder\n",
    "    '''\n",
    "    # read in the mesh\n",
    "    mesh_verticies, mesh_faces =\\\n",
    "        pp3d.read_mesh(\"../Models/\" + mesh_name + \" UV Mapped.obj\")\n",
    "\n",
    "    # Load in the text version of the model\n",
    "    mesh_data =\\\n",
    "        pd.read_csv(\"../Models/\" + mesh_name + \" UV Mapped as Text.txt\",\n",
    "                    names=[\"Type\", \"Point 1\", \"Point 2\", \"Point 3\"],\n",
    "                    delim_whitespace=True, dtype=str)\n",
    "    grouped_mesh_data = mesh_data.groupby([\"Type\"])\n",
    "\n",
    "    # Get the UV data\n",
    "    uv_data = grouped_mesh_data.get_group(\"vt\")\n",
    "    uv_data = uv_data.astype(\n",
    "        {\"Point 1\": float, \"Point 2\": float, \"Point 3\": float})\n",
    "    uv_data.drop(\"Type\", axis=1, inplace=True)\n",
    "    uv_data.drop(\"Point 3\", axis=1, inplace=True)\n",
    "    uv_data.rename(columns={\"Point 1\": \"x\", \"Point 2\": \"y\"},\n",
    "                        inplace=True)\n",
    "    uv_data.reset_index(drop=True, inplace=True)\n",
    "    uv_data.index += 1\n",
    "    uv_array = uv_data.values  # convert the uv data to a numpy array\n",
    "\n",
    "    # Get the face data\n",
    "    face_data = grouped_mesh_data.get_group(\"f\")\n",
    "    split_face_data_1 = pd.DataFrame()\n",
    "    split_face_data_1[[\"vertex\", \"uv\", \"normal\"]] =\\\n",
    "        face_data[\"Point 1\"].str.split(\"/\", expand=True)\n",
    "    split_face_data_2 = pd.DataFrame()\n",
    "    split_face_data_2[[\"vertex\", \"uv\", \"normal\"]] =\\\n",
    "        face_data[\"Point 2\"].str.split(\"/\", expand=True)\n",
    "    split_face_data_3 = pd.DataFrame()\n",
    "    split_face_data_3[[\"vertex\", \"uv\", \"normal\"]] =\\\n",
    "        face_data[\"Point 3\"].str.split(\"/\", expand=True)\n",
    "    split_face_data = pd.concat(\n",
    "        [split_face_data_1, split_face_data_2, split_face_data_3])\n",
    "    split_face_data = split_face_data.astype(\n",
    "        {\"vertex\": float, \"uv\": float, \"normal\": float})\n",
    "    face_data = split_face_data.reset_index(drop=True)\n",
    "    face_data.index += 1\n",
    "\n",
    "    np.savez_compressed(\"../Data/\" + mesh_name.lower() + \" mesh data.npz\",\n",
    "             mesh_verticies=mesh_verticies, mesh_faces=mesh_faces,\n",
    "             uv_array=uv_array, face_data=face_data)"
   ]
  },
  {
   "attachments": {},
   "cell_type": "markdown",
   "metadata": {},
   "source": [
    "## Example for the Male Right Arm"
   ]
  },
  {
   "cell_type": "code",
   "execution_count": 3,
   "metadata": {},
   "outputs": [],
   "source": [
    "mesh_name = \"Male Right Arm\"\n",
    "get_mesh_data(mesh_name)"
   ]
  },
  {
   "cell_type": "code",
   "execution_count": 4,
   "metadata": {},
   "outputs": [
    {
     "name": "stdout",
     "output_type": "stream",
     "text": [
      "[[0.102348 0.273586]\n",
      " [0.931549 0.540414]\n",
      " [0.106193 0.042448]\n",
      " ...\n",
      " [0.151023 0.816322]\n",
      " [0.151804 0.817039]\n",
      " [0.152532 0.817768]]\n"
     ]
    }
   ],
   "source": [
    "imported_data = np.load(\"../Data/male right arm mesh data.npz\")\n",
    "print(imported_data[\"uv_array\"])"
   ]
  },
  {
   "attachments": {},
   "cell_type": "markdown",
   "metadata": {},
   "source": [
    "## Face data needs to be imported and converted to a pandas Dataframe"
   ]
  },
  {
   "cell_type": "code",
   "execution_count": 5,
   "metadata": {},
   "outputs": [
    {
     "data": {
      "text/html": [
       "<div>\n",
       "<style scoped>\n",
       "    .dataframe tbody tr th:only-of-type {\n",
       "        vertical-align: middle;\n",
       "    }\n",
       "\n",
       "    .dataframe tbody tr th {\n",
       "        vertical-align: top;\n",
       "    }\n",
       "\n",
       "    .dataframe thead th {\n",
       "        text-align: right;\n",
       "    }\n",
       "</style>\n",
       "<table border=\"1\" class=\"dataframe\">\n",
       "  <thead>\n",
       "    <tr style=\"text-align: right;\">\n",
       "      <th></th>\n",
       "      <th>vertex</th>\n",
       "      <th>uv</th>\n",
       "      <th>normal</th>\n",
       "    </tr>\n",
       "  </thead>\n",
       "  <tbody>\n",
       "    <tr>\n",
       "      <th>0</th>\n",
       "      <td>25606.0</td>\n",
       "      <td>26613.0</td>\n",
       "      <td>1.0</td>\n",
       "    </tr>\n",
       "    <tr>\n",
       "      <th>1</th>\n",
       "      <td>25607.0</td>\n",
       "      <td>26614.0</td>\n",
       "      <td>2.0</td>\n",
       "    </tr>\n",
       "    <tr>\n",
       "      <th>2</th>\n",
       "      <td>25608.0</td>\n",
       "      <td>26615.0</td>\n",
       "      <td>3.0</td>\n",
       "    </tr>\n",
       "    <tr>\n",
       "      <th>3</th>\n",
       "      <td>25609.0</td>\n",
       "      <td>26616.0</td>\n",
       "      <td>4.0</td>\n",
       "    </tr>\n",
       "    <tr>\n",
       "      <th>4</th>\n",
       "      <td>25610.0</td>\n",
       "      <td>26617.0</td>\n",
       "      <td>5.0</td>\n",
       "    </tr>\n",
       "  </tbody>\n",
       "</table>\n",
       "</div>"
      ],
      "text/plain": [
       "    vertex       uv  normal\n",
       "0  25606.0  26613.0     1.0\n",
       "1  25607.0  26614.0     2.0\n",
       "2  25608.0  26615.0     3.0\n",
       "3  25609.0  26616.0     4.0\n",
       "4  25610.0  26617.0     5.0"
      ]
     },
     "execution_count": 5,
     "metadata": {},
     "output_type": "execute_result"
    }
   ],
   "source": [
    "imported_face_data = pd.DataFrame(imported_data[\"face_data\"], columns=[\"vertex\", \"uv\", \"normal\"])\n",
    "imported_face_data.head()"
   ]
  },
  {
   "attachments": {},
   "cell_type": "markdown",
   "metadata": {},
   "source": [
    "## Save out the rest of the data"
   ]
  },
  {
   "cell_type": "code",
   "execution_count": null,
   "metadata": {},
   "outputs": [],
   "source": [
    "get_mesh_data(\"Male Left Arm\")\n",
    "get_mesh_data(\"Female Right Arm\")\n",
    "get_mesh_data(\"Female Left Arm\")"
   ]
  }
 ],
 "metadata": {
  "kernelspec": {
   "display_name": "Geodesic_Path_Finder",
   "language": "python",
   "name": "python3"
  },
  "language_info": {
   "codemirror_mode": {
    "name": "ipython",
    "version": 3
   },
   "file_extension": ".py",
   "mimetype": "text/x-python",
   "name": "python",
   "nbconvert_exporter": "python",
   "pygments_lexer": "ipython3",
   "version": "3.9.16"
  },
  "orig_nbformat": 4
 },
 "nbformat": 4,
 "nbformat_minor": 2
}
