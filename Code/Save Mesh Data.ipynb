{
 "cells": [
  {
   "cell_type": "markdown",
   "metadata": {},
   "source": [
    "<div class=\"alert alert-block alert-warning\">\n",
    "<b>Warning:</b> This notebook is deprecated. It will overwrite the Male meshes with the data from before the elbow UVs were moved. Instead use the data_manager.py module in the drawingto3D folder.\n",
    "</div>"
   ]
  },
  {
   "attachments": {},
   "cell_type": "markdown",
   "metadata": {},
   "source": [
    "# Code to Save Mesh Data and Geodesic Solver\n",
    "Saves out the data for the female and male meshes and the solvers for preloading of the data. This will greatly speed up calculations"
   ]
  },
  {
   "cell_type": "code",
   "execution_count": 1,
   "metadata": {},
   "outputs": [],
   "source": [
    "import numpy as np\n",
    "import polars as pl\n",
    "import potpourri3d as pp3d"
   ]
  },
  {
   "cell_type": "markdown",
   "metadata": {},
   "source": [
    "## Divide imported obj text file as a dataframe"
   ]
  },
  {
   "cell_type": "code",
   "execution_count": 2,
   "metadata": {},
   "outputs": [],
   "source": [
    "def txt_to_dataframe(file_name):\n",
    "    # Load in the text version of the model\n",
    "    mesh_data =\\\n",
    "        pl.read_csv(f\"../Models/{file_name}\",\n",
    "                    separator=' ', has_header=False,\n",
    "                    new_columns=[\"Type\", \"Point 1\", \"Point 2\", \"Point 3\"],\n",
    "                    infer_schema_length=0)\n",
    "\n",
    "    grouped_mesh_data = mesh_data.partition_by([\"Type\"], as_dict=True)\n",
    "\n",
    "    # Get the UV data\n",
    "    uv_data = grouped_mesh_data[(\"vt\",)]\n",
    "    uv_data = uv_data.with_columns(\n",
    "        pl.col(\"Point 1\").cast(pl.Float32)).with_columns(\n",
    "            pl.col(\"Point 2\").cast(pl.Float32)\n",
    "        )\n",
    "    uv_data = uv_data.drop(\"Type\").drop(\"Point 3\").with_row_index(offset=1)\n",
    "    uv_data = uv_data.rename({\"Point 1\": \"x\", \"Point 2\": \"y\"})\n",
    "\n",
    "    # Get the face data\n",
    "    face_data = grouped_mesh_data[(\"f\",)]\n",
    "    split_face_data_1 = face_data.with_columns(\n",
    "        pl.col(\"Point 1\")\n",
    "        .str.split_exact(\"/\", 3)\n",
    "        .struct.rename_fields([\"vertex\", \"uv\", \"normal\"])\n",
    "        .alias(\"fields\")\n",
    "    ).unnest(\n",
    "        \"fields\").drop(\"Type\").drop(\"Point 1\").drop(\"Point 2\").drop(\"Point 3\")\n",
    "\n",
    "    split_face_data_2 = face_data.with_columns(\n",
    "        pl.col(\"Point 2\")\n",
    "        .str.split_exact(\"/\", 3)\n",
    "        .struct.rename_fields([\"vertex\", \"uv\", \"normal\"])\n",
    "        .alias(\"fields\")\n",
    "    ).unnest(\n",
    "        \"fields\").drop(\"Type\").drop(\"Point 1\").drop(\"Point 2\").drop(\"Point 3\")\n",
    "\n",
    "    split_face_data_3 = face_data.with_columns(\n",
    "        pl.col(\"Point 3\")\n",
    "        .str.split_exact(\"/\", 3)\n",
    "        .struct.rename_fields([\"vertex\", \"uv\", \"normal\"])\n",
    "        .alias(\"fields\")\n",
    "    ).unnest(\n",
    "        \"fields\").drop(\"Type\").drop(\"Point 1\").drop(\"Point 2\").drop(\"Point 3\")\n",
    "\n",
    "    split_face_data = pl.concat(\n",
    "        [split_face_data_1, split_face_data_2, split_face_data_3])\n",
    "    split_face_data = split_face_data.with_columns(\n",
    "        pl.col(\"vertex\").cast(pl.Int32)\n",
    "    ).with_columns(\n",
    "        pl.col(\"uv\").cast(pl.UInt32)\n",
    "    ).drop(\"normal\").unique(subset=\"uv\")\n",
    "\n",
    "    return(uv_data, split_face_data)"
   ]
  },
  {
   "attachments": {},
   "cell_type": "markdown",
   "metadata": {},
   "source": [
    "## Function to save out data from mesh obj file"
   ]
  },
  {
   "cell_type": "code",
   "execution_count": 3,
   "metadata": {},
   "outputs": [],
   "source": [
    "def get_mesh_data(mesh_name: str) -> None:\n",
    "    '''\n",
    "    Saves out the mesh data from an obj file\n",
    "\n",
    "    Parameters\n",
    "    ----------\n",
    "    mesh_name: str\n",
    "        The name of the mesh in the Model's folder\n",
    "    '''\n",
    "    # read in the mesh\n",
    "    mesh_verticies, mesh_faces =\\\n",
    "        pp3d.read_mesh(\"../Models/\" + mesh_name + \" UV Mapped.obj\")\n",
    "    \n",
    "    (uv_data, split_face_data) =\\\n",
    "        txt_to_dataframe(mesh_name + \" UV Mapped as Text.txt\")\n",
    "    \n",
    "    uv_array = uv_data.drop(\"index\").to_numpy()\n",
    "    lookup_data = split_face_data.to_numpy()\n",
    "\n",
    "    np.savez_compressed(\"../Data/\" + mesh_name.lower() + \" mesh data.npz\",\n",
    "             mesh_verticies=mesh_verticies, mesh_faces=mesh_faces,\n",
    "             uv_array=uv_array, lookup_data=lookup_data)"
   ]
  },
  {
   "attachments": {},
   "cell_type": "markdown",
   "metadata": {},
   "source": [
    "## Example for the Male Right Arm"
   ]
  },
  {
   "cell_type": "code",
   "execution_count": 4,
   "metadata": {},
   "outputs": [],
   "source": [
    "mesh_name = \"Male Right Arm\"\n",
    "get_mesh_data(mesh_name)"
   ]
  },
  {
   "cell_type": "code",
   "execution_count": 5,
   "metadata": {},
   "outputs": [
    {
     "name": "stdout",
     "output_type": "stream",
     "text": [
      "[[0.102348 0.273586]\n",
      " [0.931549 0.540414]\n",
      " [0.106193 0.042448]\n",
      " ...\n",
      " [0.151023 0.816322]\n",
      " [0.151804 0.817039]\n",
      " [0.152532 0.817768]]\n"
     ]
    }
   ],
   "source": [
    "imported_data = np.load(\"../Data/male right arm mesh data.npz\")\n",
    "print(imported_data[\"uv_array\"])"
   ]
  },
  {
   "attachments": {},
   "cell_type": "markdown",
   "metadata": {},
   "source": [
    "## Face data needs to be imported and converted to a polars Dataframe"
   ]
  },
  {
   "cell_type": "code",
   "execution_count": 6,
   "metadata": {},
   "outputs": [
    {
     "data": {
      "text/html": [
       "<div><style>\n",
       ".dataframe > thead > tr,\n",
       ".dataframe > tbody > tr {\n",
       "  text-align: right;\n",
       "  white-space: pre-wrap;\n",
       "}\n",
       "</style>\n",
       "<small>shape: (5, 2)</small><table border=\"1\" class=\"dataframe\"><thead><tr><th>vertex</th><th>uv</th></tr><tr><td>i64</td><td>i64</td></tr></thead><tbody><tr><td>5197</td><td>5377</td></tr><tr><td>141896</td><td>145369</td></tr><tr><td>106391</td><td>108546</td></tr><tr><td>151767</td><td>155480</td></tr><tr><td>191689</td><td>196894</td></tr></tbody></table></div>"
      ],
      "text/plain": [
       "shape: (5, 2)\n",
       "┌────────┬────────┐\n",
       "│ vertex ┆ uv     │\n",
       "│ ---    ┆ ---    │\n",
       "│ i64    ┆ i64    │\n",
       "╞════════╪════════╡\n",
       "│ 5197   ┆ 5377   │\n",
       "│ 141896 ┆ 145369 │\n",
       "│ 106391 ┆ 108546 │\n",
       "│ 151767 ┆ 155480 │\n",
       "│ 191689 ┆ 196894 │\n",
       "└────────┴────────┘"
      ]
     },
     "execution_count": 6,
     "metadata": {},
     "output_type": "execute_result"
    }
   ],
   "source": [
    "imported_lookup_data = pl.DataFrame(imported_data[\"lookup_data\"],\n",
    "                                    schema=[\"vertex\", \"uv\"])\n",
    "imported_lookup_data.head()"
   ]
  },
  {
   "attachments": {},
   "cell_type": "markdown",
   "metadata": {},
   "source": [
    "## Save out the rest of the data"
   ]
  },
  {
   "cell_type": "code",
   "execution_count": 7,
   "metadata": {},
   "outputs": [],
   "source": [
    "get_mesh_data(\"Male Left Arm\")\n",
    "get_mesh_data(\"Female Right Arm\")\n",
    "get_mesh_data(\"Female Left Arm\")"
   ]
  }
 ],
 "metadata": {
  "kernelspec": {
   "display_name": "Geodesic_Path_Finder",
   "language": "python",
   "name": "python3"
  },
  "language_info": {
   "codemirror_mode": {
    "name": "ipython",
    "version": 3
   },
   "file_extension": ".py",
   "mimetype": "text/x-python",
   "name": "python",
   "nbconvert_exporter": "python",
   "pygments_lexer": "ipython3",
   "version": "3.9.13"
  },
  "orig_nbformat": 4
 },
 "nbformat": 4,
 "nbformat_minor": 2
}
