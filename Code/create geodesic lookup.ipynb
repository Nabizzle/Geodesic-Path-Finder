{
 "cells": [
  {
   "cell_type": "code",
   "execution_count": 37,
   "metadata": {},
   "outputs": [],
   "source": [
    "from drawingto3D.data_manager import load_mesh\n",
    "import numpy as np\n",
    "import sys\n",
    "import time\n",
    "from timeit import timeit"
   ]
  },
  {
   "cell_type": "code",
   "execution_count": 2,
   "metadata": {},
   "outputs": [],
   "source": [
    "(distance_solver, path_solver,\n",
    " uv_array, lookup_data, imported_data) =\\\n",
    "            load_mesh(\"Male Right Arm\")"
   ]
  },
  {
   "cell_type": "code",
   "execution_count": 35,
   "metadata": {},
   "outputs": [
    {
     "name": "stdout",
     "output_type": "stream",
     "text": [
      "[2.62090651 0.         4.37137344 ... 4.30298895 4.30279607 4.30260109]\n",
      "208529\n",
      "208529\n",
      "112\n",
      "1668232\n",
      "4.377523767678297\n"
     ]
    }
   ],
   "source": [
    "dist = distance_solver.compute_distance(1)\n",
    "a = dist\n",
    "print(dist)\n",
    "print(len(dist))\n",
    "print(len(imported_data[\"mesh_verticies\"]))\n",
    "print(sys.getsizeof(a))\n",
    "print(a.nbytes)\n",
    "print(max(dist))"
   ]
  },
  {
   "cell_type": "code",
   "execution_count": 34,
   "metadata": {},
   "outputs": [
    {
     "name": "stdout",
     "output_type": "stream",
     "text": [
      "(2, 208529)\n",
      "3336592\n"
     ]
    }
   ],
   "source": [
    "for i in range(2):\n",
    "    dist = distance_solver.compute_distance(i)\n",
    "    if i == 0:\n",
    "        distance_lookup = dist\n",
    "    else:\n",
    "        distance_lookup = np.vstack((distance_lookup, dist))\n",
    "\n",
    "print(distance_lookup.shape)\n",
    "print(sys.getsizeof(distance_lookup))"
   ]
  },
  {
   "cell_type": "code",
   "execution_count": 38,
   "metadata": {},
   "outputs": [
    {
     "name": "stdout",
     "output_type": "stream",
     "text": [
      "The average time is 0.20 seconds\n"
     ]
    }
   ],
   "source": [
    "total_time =\\\n",
    "    timeit(\"distance_solver.compute_distance(5)\",\n",
    "           number= 50, globals=globals())\n",
    "print(f\"The average time is {total_time/50:.2f} seconds\")"
   ]
  },
  {
   "cell_type": "code",
   "execution_count": null,
   "metadata": {},
   "outputs": [],
   "source": []
  }
 ],
 "metadata": {
  "kernelspec": {
   "display_name": "Geodesic",
   "language": "python",
   "name": "python3"
  },
  "language_info": {
   "codemirror_mode": {
    "name": "ipython",
    "version": 3
   },
   "file_extension": ".py",
   "mimetype": "text/x-python",
   "name": "python",
   "nbconvert_exporter": "python",
   "pygments_lexer": "ipython3",
   "version": "3.9.13"
  }
 },
 "nbformat": 4,
 "nbformat_minor": 2
}
